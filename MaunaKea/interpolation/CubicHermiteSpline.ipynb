{
 "cells": [
  {
   "cell_type": "code",
   "execution_count": 3,
   "metadata": {},
   "outputs": [],
   "source": [
    "import numpy as np\n",
    "import tools\n",
    "\n",
    "NSCALE_points = 7\n",
    "NSCALE_map = np.linspace(0, 3, NSCALE_points)\n",
    "\n",
    "ZA_points = 7\n",
    "air_masses_map = np.linspace(1, tools.calc_air_mass(75), ZA_points)\n",
    "# ZA_map scaling with linear air_mass\n",
    "ZA_map = tools.calc_zenith(air_masses_map)\n",
    "\n",
    "freq_points = 240001\n",
    "Tb_scalar_field = np.zeros((NSCALE_points, ZA_points, freq_points))\n",
    "jacobian_scalar_field = np.zeros((NSCALE_points, ZA_points, freq_points))\n",
    "\n",
    "# Load interpolation & jacobian data\n",
    "for idx, NSCALE in enumerate(NSCALE_map):\n",
    "    for jdx, AM in enumerate(air_masses_map):\n",
    "\n",
    "        filename = f'MaunaKea_Tb_Spectrum_{AM:.1f}_{NSCALE:.1f}'\n",
    "        data = np.load(f'{filename}.out')\n",
    "\n",
    "        freq_map = data[:,0]\n",
    "        \n",
    "        # Second column is Tb in K\n",
    "        Tb_scalar_field[idx,jdx] = data[:,2]\n",
    "\n",
    "        # Jacobian\n",
    "        conversation_factor = 2109.86 * 10**-3\n",
    "        jacobian_scalar_field[idx,jdx] = (data[:,4] / conversation_factor)"
   ]
  },
  {
   "cell_type": "code",
   "execution_count": 5,
   "metadata": {},
   "outputs": [
    {
     "ename": "ValueError",
     "evalue": "setting an array element with a sequence. The requested array has an inhomogeneous shape after 1 dimensions. The detected shape was (3,) + inhomogeneous part.",
     "output_type": "error",
     "traceback": [
      "\u001b[0;31m---------------------------------------------------------------------------\u001b[0m",
      "\u001b[0;31mValueError\u001b[0m                                Traceback (most recent call last)",
      "Cell \u001b[0;32mIn[5], line 4\u001b[0m\n\u001b[1;32m      1\u001b[0m \u001b[38;5;28;01mfrom\u001b[39;00m \u001b[38;5;21;01mscipy\u001b[39;00m\u001b[38;5;21;01m.\u001b[39;00m\u001b[38;5;21;01minterpolate\u001b[39;00m \u001b[38;5;28;01mimport\u001b[39;00m CubicHermiteSpline\n\u001b[1;32m      3\u001b[0m \u001b[38;5;66;03m# Pass freq in points\u001b[39;00m\n\u001b[0;32m----> 4\u001b[0m interp_func \u001b[38;5;241m=\u001b[39m \u001b[43mCubicHermiteSpline\u001b[49m\u001b[43m(\u001b[49m\u001b[43mx\u001b[49m\u001b[43m \u001b[49m\u001b[38;5;241;43m=\u001b[39;49m\u001b[43m \u001b[49m\u001b[43m(\u001b[49m\u001b[43mNSCALE_map\u001b[49m\u001b[43m[\u001b[49m\u001b[43m:\u001b[49m\u001b[43m:\u001b[49m\u001b[38;5;241;43m2\u001b[39;49m\u001b[43m]\u001b[49m\u001b[43m,\u001b[49m\u001b[43m \u001b[49m\u001b[43mZA_map\u001b[49m\u001b[43m[\u001b[49m\u001b[43m:\u001b[49m\u001b[43m:\u001b[49m\u001b[38;5;241;43m2\u001b[39;49m\u001b[43m]\u001b[49m\u001b[43m,\u001b[49m\u001b[43m \u001b[49m\u001b[43mfreq_map\u001b[49m\u001b[43m)\u001b[49m\u001b[43m,\u001b[49m\n\u001b[1;32m      5\u001b[0m \u001b[43m                                 \u001b[49m\u001b[43my\u001b[49m\u001b[43m \u001b[49m\u001b[38;5;241;43m=\u001b[39;49m\u001b[43m \u001b[49m\u001b[43mTb_scalar_field\u001b[49m\u001b[43m[\u001b[49m\u001b[43m:\u001b[49m\u001b[43m:\u001b[49m\u001b[38;5;241;43m2\u001b[39;49m\u001b[43m,\u001b[49m\u001b[43m:\u001b[49m\u001b[43m:\u001b[49m\u001b[38;5;241;43m2\u001b[39;49m\u001b[43m]\u001b[49m\u001b[43m,\u001b[49m\n\u001b[1;32m      6\u001b[0m \u001b[43m                                 \u001b[49m\u001b[43mdydx\u001b[49m\u001b[38;5;241;43m=\u001b[39;49m\u001b[43m \u001b[49m\u001b[43mjacobian_scalar_field\u001b[49m\u001b[43m[\u001b[49m\u001b[43m:\u001b[49m\u001b[43m:\u001b[49m\u001b[38;5;241;43m2\u001b[39;49m\u001b[43m,\u001b[49m\u001b[43m:\u001b[49m\u001b[43m:\u001b[49m\u001b[38;5;241;43m2\u001b[39;49m\u001b[43m]\u001b[49m\u001b[43m)\u001b[49m\n",
      "File \u001b[0;32m/opt/anaconda3/envs/DraChi/lib/python3.12/site-packages/scipy/interpolate/_cubic.py:150\u001b[0m, in \u001b[0;36mCubicHermiteSpline.__init__\u001b[0;34m(self, x, y, dydx, axis, extrapolate)\u001b[0m\n\u001b[1;32m    147\u001b[0m \u001b[38;5;28;01mif\u001b[39;00m extrapolate \u001b[38;5;129;01mis\u001b[39;00m \u001b[38;5;28;01mNone\u001b[39;00m:\n\u001b[1;32m    148\u001b[0m     extrapolate \u001b[38;5;241m=\u001b[39m \u001b[38;5;28;01mTrue\u001b[39;00m\n\u001b[0;32m--> 150\u001b[0m x, dx, y, axis, dydx \u001b[38;5;241m=\u001b[39m \u001b[43mprepare_input\u001b[49m\u001b[43m(\u001b[49m\u001b[43mx\u001b[49m\u001b[43m,\u001b[49m\u001b[43m \u001b[49m\u001b[43my\u001b[49m\u001b[43m,\u001b[49m\u001b[43m \u001b[49m\u001b[43maxis\u001b[49m\u001b[43m,\u001b[49m\u001b[43m \u001b[49m\u001b[43mdydx\u001b[49m\u001b[43m)\u001b[49m\n\u001b[1;32m    152\u001b[0m dxr \u001b[38;5;241m=\u001b[39m dx\u001b[38;5;241m.\u001b[39mreshape([dx\u001b[38;5;241m.\u001b[39mshape[\u001b[38;5;241m0\u001b[39m]] \u001b[38;5;241m+\u001b[39m [\u001b[38;5;241m1\u001b[39m] \u001b[38;5;241m*\u001b[39m (y\u001b[38;5;241m.\u001b[39mndim \u001b[38;5;241m-\u001b[39m \u001b[38;5;241m1\u001b[39m))\n\u001b[1;32m    153\u001b[0m slope \u001b[38;5;241m=\u001b[39m np\u001b[38;5;241m.\u001b[39mdiff(y, axis\u001b[38;5;241m=\u001b[39m\u001b[38;5;241m0\u001b[39m) \u001b[38;5;241m/\u001b[39m dxr\n",
      "File \u001b[0;32m/opt/anaconda3/envs/DraChi/lib/python3.12/site-packages/scipy/interpolate/_cubic.py:32\u001b[0m, in \u001b[0;36mprepare_input\u001b[0;34m(x, y, axis, dydx)\u001b[0m\n\u001b[1;32m     23\u001b[0m \u001b[38;5;28;01mdef\u001b[39;00m \u001b[38;5;21mprepare_input\u001b[39m(x, y, axis, dydx\u001b[38;5;241m=\u001b[39m\u001b[38;5;28;01mNone\u001b[39;00m):\n\u001b[1;32m     24\u001b[0m \u001b[38;5;250m    \u001b[39m\u001b[38;5;124;03m\"\"\"Prepare input for cubic spline interpolators.\u001b[39;00m\n\u001b[1;32m     25\u001b[0m \n\u001b[1;32m     26\u001b[0m \u001b[38;5;124;03m    All data are converted to numpy arrays and checked for correctness.\u001b[39;00m\n\u001b[0;32m   (...)\u001b[0m\n\u001b[1;32m     29\u001b[0m \u001b[38;5;124;03m    [0, number of dimensions of `y`).\u001b[39;00m\n\u001b[1;32m     30\u001b[0m \u001b[38;5;124;03m    \"\"\"\u001b[39;00m\n\u001b[0;32m---> 32\u001b[0m     x, y \u001b[38;5;241m=\u001b[39m \u001b[38;5;28mmap\u001b[39m(np\u001b[38;5;241m.\u001b[39masarray, (x, y))\n\u001b[1;32m     33\u001b[0m     \u001b[38;5;28;01mif\u001b[39;00m np\u001b[38;5;241m.\u001b[39missubdtype(x\u001b[38;5;241m.\u001b[39mdtype, np\u001b[38;5;241m.\u001b[39mcomplexfloating):\n\u001b[1;32m     34\u001b[0m         \u001b[38;5;28;01mraise\u001b[39;00m \u001b[38;5;167;01mValueError\u001b[39;00m(\u001b[38;5;124m\"\u001b[39m\u001b[38;5;124m`x` must contain real values.\u001b[39m\u001b[38;5;124m\"\u001b[39m)\n",
      "\u001b[0;31mValueError\u001b[0m: setting an array element with a sequence. The requested array has an inhomogeneous shape after 1 dimensions. The detected shape was (3,) + inhomogeneous part."
     ]
    }
   ],
   "source": [
    "from scipy.interpolate import CubicHermiteSpline\n",
    "\n",
    "# Pass freq in points\n",
    "interp_func = CubicHermiteSpline(x = (NSCALE_map[::2], ZA_map[::2], freq_map),\n",
    "                                 y = Tb_scalar_field[::2,::2],\n",
    "                                 dydx = jacobian_scalar_field[::2,::2])"
   ]
  }
 ],
 "metadata": {
  "kernelspec": {
   "display_name": "DraChi",
   "language": "python",
   "name": "python3"
  },
  "language_info": {
   "codemirror_mode": {
    "name": "ipython",
    "version": 3
   },
   "file_extension": ".py",
   "mimetype": "text/x-python",
   "name": "python",
   "nbconvert_exporter": "python",
   "pygments_lexer": "ipython3",
   "version": "3.12.4"
  }
 },
 "nbformat": 4,
 "nbformat_minor": 2
}
