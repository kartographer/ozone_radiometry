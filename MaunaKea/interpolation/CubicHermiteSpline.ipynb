{
 "cells": [
  {
   "cell_type": "code",
   "execution_count": 15,
   "metadata": {},
   "outputs": [],
   "source": [
    "import numpy as np\n",
    "import tools\n",
    "\n",
    "NSCALE_points = 7\n",
    "NSCALE_map = np.linspace(0, 3, NSCALE_points)\n",
    "\n",
    "ZA_points = 7\n",
    "air_masses_map = np.linspace(1, tools.calc_air_mass(75), ZA_points)\n",
    "# ZA_map scaling with linear air_mass\n",
    "ZA_map = tools.calc_zenith(air_masses_map)\n",
    "\n",
    "freq_points = 240001\n",
    "Tb_scalar_field = np.zeros((NSCALE_points, ZA_points, freq_points))\n",
    "NSCALE_jacobian = np.zeros((NSCALE_points, ZA_points, freq_points))\n",
    "AM_jacobian = np.zeros((NSCALE_points, ZA_points, freq_points))\n",
    "\n",
    "# Load interpolation & jacobian data\n",
    "for idx, NSCALE in enumerate(NSCALE_map):\n",
    "    for jdx, AM in enumerate(air_masses_map):\n",
    "\n",
    "        filename = f'MaunaKea_Tb_Spectrum_{AM:.1f}_{NSCALE:.1f}'\n",
    "        data = np.load(f'{filename}.out')\n",
    "\n",
    "        freq_map = data[:,0]\n",
    "        \n",
    "        # Second column is Tb in K\n",
    "        Tb_scalar_field[idx,jdx] = data[:,2]\n",
    "\n",
    "        # Jacobian\n",
    "        conversation_factor = 2109.86 * 10**-3\n",
    "        NSCALE_jacobian[idx,jdx] = (data[:,4] / conversation_factor)\n",
    "        AM_jacobian[idx,jdx] = (data[:,3])\n"
   ]
  },
  {
   "cell_type": "code",
   "execution_count": 27,
   "metadata": {},
   "outputs": [],
   "source": [
    "from scipy.interpolate import CubicHermiteSpline\n",
    "\n",
    "for idx, NSCALE in enumerate(NSCALE_map):\n",
    "    interp_func = CubicHermiteSpline(x=air_masses_map[::2],\n",
    "                                     y=Tb_scalar_field[idx,::2],\n",
    "                                     dydx=AM_jacobian[idx,::2])\n",
    "    \n",
    "    points = np.meshgrid(air_masses_map)\n",
    "\n",
    "    eval_grid = interp_func(points).reshape(AM_jacobian[idx].shape)\n",
    "    \n"
   ]
  },
  {
   "cell_type": "code",
   "execution_count": null,
   "metadata": {},
   "outputs": [],
   "source": []
  },
  {
   "cell_type": "code",
   "execution_count": 24,
   "metadata": {},
   "outputs": [],
   "source": [
    "interp_func = CubicHermiteSpline(x=air_masses_map[::2], y=Tb_scalar_field[0,::2],dydx=AM_jacobian[0,::2])"
   ]
  },
  {
   "cell_type": "code",
   "execution_count": 26,
   "metadata": {},
   "outputs": [
    {
     "data": {
      "text/plain": [
       "(7, 240001)"
      ]
     },
     "execution_count": 26,
     "metadata": {},
     "output_type": "execute_result"
    }
   ],
   "source": [
    "eval_grid.shape"
   ]
  },
  {
   "cell_type": "code",
   "execution_count": 25,
   "metadata": {},
   "outputs": [
    {
     "data": {
      "text/plain": [
       "(4, 240001)"
      ]
     },
     "execution_count": 25,
     "metadata": {},
     "output_type": "execute_result"
    }
   ],
   "source": [
    "Tb_scalar_field[0,::2].shape"
   ]
  },
  {
   "cell_type": "code",
   "execution_count": 30,
   "metadata": {},
   "outputs": [
    {
     "data": {
      "text/plain": [
       "(4,)"
      ]
     },
     "execution_count": 30,
     "metadata": {},
     "output_type": "execute_result"
    }
   ],
   "source": [
    "air_masses_map[::2].shape"
   ]
  },
  {
   "cell_type": "code",
   "execution_count": 28,
   "metadata": {},
   "outputs": [
    {
     "data": {
      "text/plain": [
       "(7, 240001)"
      ]
     },
     "execution_count": 28,
     "metadata": {},
     "output_type": "execute_result"
    }
   ],
   "source": [
    "AM_jacobian[0].shape"
   ]
  }
 ],
 "metadata": {
  "kernelspec": {
   "display_name": "DraChi",
   "language": "python",
   "name": "python3"
  },
  "language_info": {
   "codemirror_mode": {
    "name": "ipython",
    "version": 3
   },
   "file_extension": ".py",
   "mimetype": "text/x-python",
   "name": "python",
   "nbconvert_exporter": "python",
   "pygments_lexer": "ipython3",
   "version": "3.12.4"
  }
 },
 "nbformat": 4,
 "nbformat_minor": 2
}
