{
 "cells": [
  {
   "cell_type": "code",
   "execution_count": 2,
   "metadata": {},
   "outputs": [
    {
     "name": "stdout",
     "output_type": "stream",
     "text": [
      "Starting am for AM=1.001 (ZA=2.6 deg); logNSCALE=-1.00\n",
      "Starting am for AM=1.001 (ZA=2.6 deg); logNSCALE=-0.50\n",
      "Starting am for AM=1.001 (ZA=2.6 deg); logNSCALE=0.00\n",
      "Starting am for AM=1.001 (ZA=2.6 deg); logNSCALE=0.50\n",
      "Starting am for AM=1.001 (ZA=2.6 deg); logNSCALE=1.00\n",
      "Starting am for AM=2.001 (ZA=60.0 deg); logNSCALE=-1.00\n",
      "Starting am for AM=2.001 (ZA=60.0 deg); logNSCALE=-0.50\n",
      "Starting am for AM=2.001 (ZA=60.0 deg); logNSCALE=0.00\n",
      "Starting am for AM=2.001 (ZA=60.0 deg); logNSCALE=0.50\n",
      "Starting am for AM=2.001 (ZA=60.0 deg); logNSCALE=1.00\n",
      "Starting am for AM=3.001 (ZA=70.5 deg); logNSCALE=-1.00\n",
      "Starting am for AM=3.001 (ZA=70.5 deg); logNSCALE=-0.50\n",
      "Starting am for AM=3.001 (ZA=70.5 deg); logNSCALE=0.00\n",
      "Starting am for AM=3.001 (ZA=70.5 deg); logNSCALE=0.50\n",
      "Starting am for AM=3.001 (ZA=70.5 deg); logNSCALE=1.00\n",
      "Starting am for AM=4.001 (ZA=75.5 deg); logNSCALE=-1.00\n",
      "Starting am for AM=4.001 (ZA=75.5 deg); logNSCALE=-0.50\n",
      "Starting am for AM=4.001 (ZA=75.5 deg); logNSCALE=0.00\n",
      "Starting am for AM=4.001 (ZA=75.5 deg); logNSCALE=0.50\n",
      "Starting am for AM=4.001 (ZA=75.5 deg); logNSCALE=1.00\n",
      "CPU times: user 34.5 ms, sys: 13.5 ms, total: 48 ms\n",
      "Wall time: 4min 59s\n"
     ]
    }
   ],
   "source": [
    "%%time\n",
    "\n",
    "import numpy as np\n",
    "import tools\n",
    "\n",
    "logNscale_points = 4 + 1\n",
    "airmass_points = 3 + 1\n",
    "\n",
    "airmass_min = 1.001 # Close to zenith (2.56 deg, about the highest SMA can point)\n",
    "airmass_max = 4.001 # Corresponds to ZA=75.52 deg, Max ZA for SMA is 75\n",
    "logNscale_min = -1\n",
    "logNscale_max = 1\n",
    "\n",
    "ZA_units = 'rad'\n",
    "\n",
    "if ZA_units not in ['rad', 'deg']:\n",
    "    raise Exception(\"Invalid unit provided\")\n",
    "\n",
    "airmass_map = np.linspace(airmass_min, airmass_max, airmass_points)\n",
    "logNscale_map = np.linspace(logNscale_min, logNscale_max, logNscale_points)\n",
    "ZA_map = np.arccos(1/airmass_map)\n",
    "\n",
    "for ZA, AM in zip(ZA_map, airmass_map):\n",
    "    for logNSCALE in logNscale_map:\n",
    "        print(f\"Starting am for AM={AM:.3f} (ZA={np.degrees(ZA):.1f} deg); logNSCALE={logNSCALE:.2f}\")\n",
    "        freq_start = 180\n",
    "        freq_end = 420\n",
    "        filepath=\"test.sh\"\n",
    "        script = f\"\"\"\n",
    "        /home/gkeating/repo/am-14.0/bin/am MaunaKea_SON_50.amc \\\n",
    "            {freq_start} GHz {freq_end} GHz 1 MHz {ZA} {ZA_units} 277 K {10**logNSCALE} \\\n",
    "            > newdata/MaunaKea_Tb_Spectrum_{AM:.3f}_{logNSCALE:.2f}.out \\\n",
    "            2> newdata/MaunaKea_Tb_Spectrum_{AM:.3f}_{logNSCALE:.2f}.err\n",
    "        \"\"\"\n",
    "        tools.run(filepath, script)\n"
   ]
  },
  {
   "cell_type": "code",
   "execution_count": null,
   "metadata": {},
   "outputs": [],
   "source": [
    "import tools\n",
    "ZA = \n",
    "NSCALE = \n",
    "AM = \n",
    "print(f\"Starting am for AM={AM:.2f} (ZA={np.degrees(ZA):.1f} deg); NSCALE={NSCALE:.2f}\")\n",
    "freq_start = 180\n",
    "freq_end = 420\n",
    "filepath=\"test.sh\"\n",
    "script = f\"\"\"\n",
    "/home/gkeating/repo/am-14.0/bin/am MaunaKea_SON_50.amc \\\n",
    "    {freq_start} GHz {freq_end} GHz 1 MHz {ZA} rad 277 K {NSCALE} \\\n",
    "    > newdata/MaunaKea_Tb_Spectrum_{AM:.2f}_{NSCALE:.2f}.out \\\n",
    "    2> newdata/MaunaKea_Tb_Spectrum_{AM:.2f}_{NSCALE:.2f}.err\n",
    "\"\"\"\n",
    "tools.run(filepath, script)"
   ]
  }
 ],
 "metadata": {
  "kernelspec": {
   "display_name": "Python 3 (ipykernel)",
   "language": "python",
   "name": "python3"
  },
  "language_info": {
   "codemirror_mode": {
    "name": "ipython",
    "version": 3
   },
   "file_extension": ".py",
   "mimetype": "text/x-python",
   "name": "python",
   "nbconvert_exporter": "python",
   "pygments_lexer": "ipython3",
   "version": "3.11.10"
  }
 },
 "nbformat": 4,
 "nbformat_minor": 4
}
