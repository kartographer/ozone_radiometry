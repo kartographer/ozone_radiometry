{
 "cells": [
  {
   "cell_type": "code",
   "execution_count": 5,
   "metadata": {},
   "outputs": [
    {
     "name": "stdout",
     "output_type": "stream",
     "text": [
      "ZA: [0.         0.10069207 0.20138414 0.30207622 0.40276829 0.50346036\n",
      " 0.60415243 0.70484451 0.80553658 0.90622865 1.00692072 1.10761279\n",
      " 1.20830487 1.30899694] \n",
      " AM: [1.         1.00509095 1.02062619 1.04742657 1.08698081 1.14165895\n",
      " 1.21509065 1.31283162 1.44357564 1.62148435 1.87102702 2.23814556\n",
      " 2.8200401  3.86370331]\n"
     ]
    }
   ],
   "source": [
    "import numpy as np\n",
    "import tools\n",
    "\n",
    "Nscale_points = 14\n",
    "ZA_points = 14\n",
    "ZA_max = np.radians(75) # Max ZA for SMA\n",
    "ZA_units = 'rad'\n",
    "\n",
    "if ZA_units == 'rad':\n",
    "    ZA_map = np.linspace(0, ZA_max, ZA_points)\n",
    "elif ZA_units == 'deg':\n",
    "    ZA_map = np.linspace(0, np.radians(ZA_max), ZA_points)\n",
    "else:\n",
    "    raise Exception(\"Invalid unit provided\")\n",
    "\n",
    "airmass_map = tools.calc_air_mass(ZA_map)\n",
    "Nscale_map = np.linspace(0, 3, Nscale_points)\n",
    "\n",
    "'''\n",
    "for ZA, AM in zip(ZA_map, airmass_map):\n",
    "    for NSCALE in Nscale_map:\n",
    "        print(f\"Starting am for AM={AM:.1f}; NSCALE={NSCALE:.1f}\")\n",
    "        freq_start = 180\n",
    "        freq_end = 420\n",
    "        filepath=\"test.sh\"\n",
    "        script = f\"\"\"\n",
    "        am MaunaKea_SON_50.amc \\\n",
    "            {freq_start} GHz {freq_end} GHz 1 MHz {ZA} rad 277 K {NSCALE} \\\n",
    "            > MaunaKea_Tb_Spectrum_{AM:.1f}_{NSCALE:.1f}.out \\\n",
    "            2> MaunaKea_Tb_Spectrum_{AM:.1f}_{NSCALE:.1f}.err\n",
    "        \"\"\"\n",
    "        tools.run(filepath, script)\n",
    "        '''\n",
    "\n",
    "print(f'ZA: {ZA_map} \\n AM: {airmass_map}')"
   ]
  }
 ],
 "metadata": {
  "kernelspec": {
   "display_name": "DraChi",
   "language": "python",
   "name": "python3"
  },
  "language_info": {
   "codemirror_mode": {
    "name": "ipython",
    "version": 3
   },
   "file_extension": ".py",
   "mimetype": "text/x-python",
   "name": "python",
   "nbconvert_exporter": "python",
   "pygments_lexer": "ipython3",
   "version": "3.12.4"
  }
 },
 "nbformat": 4,
 "nbformat_minor": 2
}
