{
 "cells": [
  {
   "cell_type": "code",
   "execution_count": 14,
   "metadata": {},
   "outputs": [],
   "source": [
    "import tools\n",
    "import numpy as np\n",
    "import matplotlib.pyplot as plt\n",
    "from scipy.interpolate import RegularGridInterpolator"
   ]
  },
  {
   "cell_type": "code",
   "execution_count": 18,
   "metadata": {},
   "outputs": [
    {
     "ename": "FileNotFoundError",
     "evalue": "[Errno 2] No such file or directory: '../../../AM_Data/Nscale31_AirMass31/MaunaKea_Tb_Spectrum_1.10_0.00.out'",
     "output_type": "error",
     "traceback": [
      "\u001b[0;31m---------------------------------------------------------------------------\u001b[0m",
      "\u001b[0;31mFileNotFoundError\u001b[0m                         Traceback (most recent call last)",
      "Cell \u001b[0;32mIn[18], line 21\u001b[0m\n\u001b[1;32m     18\u001b[0m \u001b[38;5;28;01mfor\u001b[39;00m jdx, airmass \u001b[38;5;129;01min\u001b[39;00m \u001b[38;5;28menumerate\u001b[39m(airmass_map):\n\u001b[1;32m     20\u001b[0m     filename \u001b[38;5;241m=\u001b[39m \u001b[38;5;124mf\u001b[39m\u001b[38;5;124m'\u001b[39m\u001b[38;5;124mMaunaKea_Tb_Spectrum_\u001b[39m\u001b[38;5;132;01m{\u001b[39;00mairmass\u001b[38;5;132;01m:\u001b[39;00m\u001b[38;5;124m.2f\u001b[39m\u001b[38;5;132;01m}\u001b[39;00m\u001b[38;5;124m_\u001b[39m\u001b[38;5;132;01m{\u001b[39;00mNscale\u001b[38;5;132;01m:\u001b[39;00m\u001b[38;5;124m.2f\u001b[39m\u001b[38;5;132;01m}\u001b[39;00m\u001b[38;5;124m'\u001b[39m\n\u001b[0;32m---> 21\u001b[0m     data \u001b[38;5;241m=\u001b[39m \u001b[43mnp\u001b[49m\u001b[38;5;241;43m.\u001b[39;49m\u001b[43mload\u001b[49m\u001b[43m(\u001b[49m\u001b[38;5;124;43mf\u001b[39;49m\u001b[38;5;124;43m'\u001b[39;49m\u001b[38;5;124;43m../../../AM_Data/Nscale31_AirMass31/\u001b[39;49m\u001b[38;5;132;43;01m{\u001b[39;49;00m\u001b[43mfilename\u001b[49m\u001b[38;5;132;43;01m}\u001b[39;49;00m\u001b[38;5;124;43m.out\u001b[39;49m\u001b[38;5;124;43m'\u001b[39;49m\u001b[43m)\u001b[49m\n\u001b[1;32m     23\u001b[0m     freq_map \u001b[38;5;241m=\u001b[39m data[:,\u001b[38;5;241m0\u001b[39m]\n\u001b[1;32m     25\u001b[0m     \u001b[38;5;66;03m# Second column is Tb in K\u001b[39;00m\n",
      "File \u001b[0;32m/opt/anaconda3/envs/DraChi/lib/python3.12/site-packages/numpy/lib/npyio.py:427\u001b[0m, in \u001b[0;36mload\u001b[0;34m(file, mmap_mode, allow_pickle, fix_imports, encoding, max_header_size)\u001b[0m\n\u001b[1;32m    425\u001b[0m     own_fid \u001b[38;5;241m=\u001b[39m \u001b[38;5;28;01mFalse\u001b[39;00m\n\u001b[1;32m    426\u001b[0m \u001b[38;5;28;01melse\u001b[39;00m:\n\u001b[0;32m--> 427\u001b[0m     fid \u001b[38;5;241m=\u001b[39m stack\u001b[38;5;241m.\u001b[39menter_context(\u001b[38;5;28;43mopen\u001b[39;49m\u001b[43m(\u001b[49m\u001b[43mos_fspath\u001b[49m\u001b[43m(\u001b[49m\u001b[43mfile\u001b[49m\u001b[43m)\u001b[49m\u001b[43m,\u001b[49m\u001b[43m \u001b[49m\u001b[38;5;124;43m\"\u001b[39;49m\u001b[38;5;124;43mrb\u001b[39;49m\u001b[38;5;124;43m\"\u001b[39;49m\u001b[43m)\u001b[49m)\n\u001b[1;32m    428\u001b[0m     own_fid \u001b[38;5;241m=\u001b[39m \u001b[38;5;28;01mTrue\u001b[39;00m\n\u001b[1;32m    430\u001b[0m \u001b[38;5;66;03m# Code to distinguish from NumPy binary files and pickles.\u001b[39;00m\n",
      "\u001b[0;31mFileNotFoundError\u001b[0m: [Errno 2] No such file or directory: '../../../AM_Data/Nscale31_AirMass31/MaunaKea_Tb_Spectrum_1.10_0.00.out'"
     ]
    }
   ],
   "source": [
    "min_nscale = 0\n",
    "max_nscale = 3\n",
    "Nscale_points = 31\n",
    "Nscale_map = np.linspace(min_nscale, max_nscale, Nscale_points)\n",
    "\n",
    "ZA_points = 31\n",
    "min_airmass = 1\n",
    "max_airmass = 4\n",
    "airmass_map = np.linspace(min_airmass, max_airmass, ZA_points)\n",
    "# ZA_map scaling with linear air_mass\n",
    "ZA_map = tools.calc_zenith(airmass_map)\n",
    "\n",
    "freq_points = 240001\n",
    "Tb_scalar_field = np.zeros((Nscale_points, ZA_points, freq_points))\n",
    "\n",
    "# Load data\n",
    "for idx, Nscale in enumerate(Nscale_map):\n",
    "    for jdx, airmass in enumerate(airmass_map):\n",
    "\n",
    "        filename = f'MaunaKea_Tb_Spectrum_{airmass:.2f}_{Nscale:.2f}'\n",
    "        data = np.load(f'../../../AM_Data/Nscale31_AirMass31/{filename}.out')\n",
    "\n",
    "        freq_map = data[:,0]\n",
    "        \n",
    "        # Second column is Tb in K\n",
    "        Tb_scalar_field[idx,jdx] = data[:,2]\n",
    "\n",
    "# Pass freq in points\n",
    "interp_func = RegularGridInterpolator(\n",
    "    points=(Nscale_map[::2], airmass_map[::2], freq_map), \n",
    "    values=Tb_scalar_field[::2,::2], method=\"linear\"\n",
    ")\n",
    "\n",
    "x,y,z = np.meshgrid(Nscale_map, airmass_map, freq_map, indexing='ij')\n",
    "\n",
    "# Must be fed one-dim\n",
    "eval_grid = interp_func((x.flatten(),y.flatten(),z.flatten())).reshape(x.shape)\n",
    "comparison_grid = ((eval_grid - Tb_scalar_field) / Tb_scalar_field) * 100\n",
    "\n",
    "# Plot results\n",
    "fig, (ax1, ax2) = plt.subplots(2, 1, figsize=(7, 7))\n",
    "plt.subplots_adjust(wspace=0.4, hspace=0.3)\n",
    "\n",
    "freq_channels = np.linspace(180, 420, freq_points)\n",
    "for idx in range(1, Nscale_points, 2):\n",
    "    for jdx in range(1, ZA_points, 2):\n",
    "        ax1.plot(freq_channels, comparison_grid[idx,jdx])\n",
    "\n",
    "fig.supylabel(\"Deviation [%]\")\n",
    "fig.supxlabel(\"Frequency [GHz]\")\n",
    "\n",
    "ax1.set_title(\"Midpoint Comparison\")\n",
    "ax1.set_xlim(180,420)\n",
    "\n",
    "freq_channels = np.linspace(180, 420, freq_points)\n",
    "for idx in range(0, Nscale_points, 2):\n",
    "    for jdx in range(0, ZA_points, 2):\n",
    "        ax2.plot(freq_channels, comparison_grid[idx,jdx])\n",
    "\n",
    "ax2.set_title(\"Verify Even Points\")\n",
    "ax2.set_xlim(180,420)"
   ]
  }
 ],
 "metadata": {
  "kernelspec": {
   "display_name": "DraChi",
   "language": "python",
   "name": "python3"
  },
  "language_info": {
   "codemirror_mode": {
    "name": "ipython",
    "version": 3
   },
   "file_extension": ".py",
   "mimetype": "text/x-python",
   "name": "python",
   "nbconvert_exporter": "python",
   "pygments_lexer": "ipython3",
   "version": "3.12.4"
  }
 },
 "nbformat": 4,
 "nbformat_minor": 2
}
